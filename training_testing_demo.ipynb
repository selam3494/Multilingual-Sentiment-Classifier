{
 "cells": [
  {
   "cell_type": "markdown",
   "id": "33d1d9b6",
   "metadata": {},
   "source": [
    "### Load and See dataset"
   ]
  },
  {
   "cell_type": "code",
   "execution_count": 1,
   "id": "95e1a543",
   "metadata": {},
   "outputs": [],
   "source": [
    "from datasets import load_dataset"
   ]
  },
  {
   "cell_type": "code",
   "execution_count": 2,
   "id": "7bc27429",
   "metadata": {},
   "outputs": [
    {
     "name": "stderr",
     "output_type": "stream",
     "text": [
      "2025-07-23 14:31:35.106825: I tensorflow/core/platform/cpu_feature_guard.cc:193] This TensorFlow binary is optimized with oneAPI Deep Neural Network Library (oneDNN) to use the following CPU instructions in performance-critical operations:  AVX2 AVX_VNNI FMA\n",
      "To enable them in other operations, rebuild TensorFlow with the appropriate compiler flags.\n",
      "2025-07-23 14:31:35.184093: I tensorflow/core/util/port.cc:104] oneDNN custom operations are on. You may see slightly different numerical results due to floating-point round-off errors from different computation orders. To turn them off, set the environment variable `TF_ENABLE_ONEDNN_OPTS=0`.\n",
      "2025-07-23 14:31:35.186443: W tensorflow/compiler/xla/stream_executor/platform/default/dso_loader.cc:64] Could not load dynamic library 'libcudart.so.11.0'; dlerror: libcudart.so.11.0: cannot open shared object file: No such file or directory\n",
      "2025-07-23 14:31:35.186453: I tensorflow/compiler/xla/stream_executor/cuda/cudart_stub.cc:29] Ignore above cudart dlerror if you do not have a GPU set up on your machine.\n",
      "2025-07-23 14:31:35.566867: W tensorflow/compiler/xla/stream_executor/platform/default/dso_loader.cc:64] Could not load dynamic library 'libnvinfer.so.7'; dlerror: libnvinfer.so.7: cannot open shared object file: No such file or directory\n",
      "2025-07-23 14:31:35.566914: W tensorflow/compiler/xla/stream_executor/platform/default/dso_loader.cc:64] Could not load dynamic library 'libnvinfer_plugin.so.7'; dlerror: libnvinfer_plugin.so.7: cannot open shared object file: No such file or directory\n",
      "2025-07-23 14:31:35.566917: W tensorflow/compiler/tf2tensorrt/utils/py_utils.cc:38] TF-TRT Warning: Cannot dlopen some TensorRT libraries. If you would like to use Nvidia GPU with TensorRT, please make sure the missing libraries mentioned above are installed properly.\n"
     ]
    }
   ],
   "source": [
    "from transformers import AutoTokenizer, AutoModelForSeq2SeqLM, pipeline\n",
    "\n",
    "model_id = \"google/flan-t5-small\"\n",
    "tok = AutoTokenizer.from_pretrained(model_id)\n",
    "model = AutoModelForSeq2SeqLM.from_pretrained(model_id)\n",
    "\n",
    "pipe = pipeline(\"text2text-generation\", model=model, tokenizer=tok, max_new_tokens=8, do_sample=False)\n",
    "\n",
    "LABELS = [\"negative\", \"neutral\", \"positive\"]\n",
    "\n",
    "def classify_llm(text):\n",
    "    prompt = f\"Classify the sentiment (negative, neutral, positive). Reply with one word.\\n\\n{text}\"\n",
    "    out = pipe(prompt)[0][\"generated_text\"].strip().lower()\n",
    "    if \"neg\" in out: return 0\n",
    "    if \"pos\" in out: return 2\n",
    "    return 1\n"
   ]
  },
  {
   "cell_type": "code",
   "execution_count": null,
   "id": "e5a926f8",
   "metadata": {},
   "outputs": [],
   "source": []
  },
  {
   "cell_type": "code",
   "execution_count": 17,
   "id": "77e18838",
   "metadata": {},
   "outputs": [
    {
     "data": {
      "application/vnd.jupyter.widget-view+json": {
       "model_id": "69fd648f95fb4b33ada01dd309b9aecf",
       "version_major": 2,
       "version_minor": 0
      },
      "text/plain": [
       "en/train/0000.parquet:   0%|          | 0.00/28.3M [00:00<?, ?B/s]"
      ]
     },
     "metadata": {},
     "output_type": "display_data"
    },
    {
     "data": {
      "application/vnd.jupyter.widget-view+json": {
       "model_id": "f3dd291053964b678f035137aedcb6e6",
       "version_major": 2,
       "version_minor": 0
      },
      "text/plain": [
       "0000.parquet:   0%|          | 0.00/713k [00:00<?, ?B/s]"
      ]
     },
     "metadata": {},
     "output_type": "display_data"
    },
    {
     "data": {
      "application/vnd.jupyter.widget-view+json": {
       "model_id": "02d1b005a1a94e4d8fc08fefe8854638",
       "version_major": 2,
       "version_minor": 0
      },
      "text/plain": [
       "0000.parquet:   0%|          | 0.00/711k [00:00<?, ?B/s]"
      ]
     },
     "metadata": {},
     "output_type": "display_data"
    },
    {
     "data": {
      "application/vnd.jupyter.widget-view+json": {
       "model_id": "324f0ac8776c428881ee9d026843bce0",
       "version_major": 2,
       "version_minor": 0
      },
      "text/plain": [
       "Generating train split:   0%|          | 0/200000 [00:00<?, ? examples/s]"
      ]
     },
     "metadata": {},
     "output_type": "display_data"
    },
    {
     "data": {
      "application/vnd.jupyter.widget-view+json": {
       "model_id": "1b17f4304eb24935a618e06705fb9ad8",
       "version_major": 2,
       "version_minor": 0
      },
      "text/plain": [
       "Generating validation split:   0%|          | 0/5000 [00:00<?, ? examples/s]"
      ]
     },
     "metadata": {},
     "output_type": "display_data"
    },
    {
     "data": {
      "application/vnd.jupyter.widget-view+json": {
       "model_id": "4dafefb0382c4ee0802d01b73f008a0a",
       "version_major": 2,
       "version_minor": 0
      },
      "text/plain": [
       "Generating test split:   0%|          | 0/5000 [00:00<?, ? examples/s]"
      ]
     },
     "metadata": {},
     "output_type": "display_data"
    },
    {
     "data": {
      "application/vnd.jupyter.widget-view+json": {
       "model_id": "968ed49474a44b8bb9a08c89c052fed0",
       "version_major": 2,
       "version_minor": 0
      },
      "text/plain": [
       "Map:   0%|          | 0/200000 [00:00<?, ? examples/s]"
      ]
     },
     "metadata": {},
     "output_type": "display_data"
    },
    {
     "data": {
      "application/vnd.jupyter.widget-view+json": {
       "model_id": "fa62768edad34b42aeb8505a8171ca6b",
       "version_major": 2,
       "version_minor": 0
      },
      "text/plain": [
       "Map:   0%|          | 0/5000 [00:00<?, ? examples/s]"
      ]
     },
     "metadata": {},
     "output_type": "display_data"
    },
    {
     "data": {
      "application/vnd.jupyter.widget-view+json": {
       "model_id": "04ab7ca8c0974c17863114ccbb3fb018",
       "version_major": 2,
       "version_minor": 0
      },
      "text/plain": [
       "Map:   0%|          | 0/5000 [00:00<?, ? examples/s]"
      ]
     },
     "metadata": {},
     "output_type": "display_data"
    }
   ],
   "source": [
    "\n",
    "ds = load_dataset(\"mteb/amazon_reviews_multi\", \"en\")\n",
    "map3 = {0:0, 1:0, 2:1, 3:2, 4:2}\n",
    "ds = ds.map(lambda x: {\"label3\": map3[x[\"label\"]]})\n",
    "\n",
    "ds = ds.rename_column(\"text\", \"sentence\")\n",
    "keep = [\"sentence\", \"label3\"]\n",
    "ds = ds.remove_columns([c for c in ds[\"train\"].column_names if c not in keep])"
   ]
  },
  {
   "cell_type": "code",
   "execution_count": 19,
   "id": "362b4472",
   "metadata": {},
   "outputs": [
    {
     "data": {
      "text/plain": [
       "{'sentence': \"I'll spend twice the amount of time boxing up the whole useless thing and send it back with a 1-star review ...\\n\\nArrived broken. Manufacturer defect. Two of the legs of the base were not completely formed, so there was no way to insert the casters. I unpackaged the entire chair and hardware before noticing this. So, I'll spend twice the amount of time boxing up the whole useless thing and send it back with a 1-star review of part of a chair I never got to sit in. I will go so far as to include a picture of what their injection molding and quality assurance process missed though. I will be hesitant to buy again. It makes me wonder if there aren't missing structures and supports that don't impede the assembly process.\",\n",
       " 'label3': 0}"
      ]
     },
     "execution_count": 19,
     "metadata": {},
     "output_type": "execute_result"
    }
   ],
   "source": [
    "ds['train'][0]"
   ]
  },
  {
   "cell_type": "code",
   "execution_count": 20,
   "id": "faa95281",
   "metadata": {},
   "outputs": [
    {
     "data": {
      "application/vnd.jupyter.widget-view+json": {
       "model_id": "0c42f9828eff40dab5bd091a0f031984",
       "version_major": 2,
       "version_minor": 0
      },
      "text/plain": [
       "Map:   0%|          | 0/200000 [00:00<?, ? examples/s]"
      ]
     },
     "metadata": {},
     "output_type": "display_data"
    },
    {
     "data": {
      "application/vnd.jupyter.widget-view+json": {
       "model_id": "062eb6396f6d48129644a24540d9f4b5",
       "version_major": 2,
       "version_minor": 0
      },
      "text/plain": [
       "Map:   0%|          | 0/5000 [00:00<?, ? examples/s]"
      ]
     },
     "metadata": {},
     "output_type": "display_data"
    },
    {
     "data": {
      "application/vnd.jupyter.widget-view+json": {
       "model_id": "8f02089869464424895a1ada008c6103",
       "version_major": 2,
       "version_minor": 0
      },
      "text/plain": [
       "Map:   0%|          | 0/5000 [00:00<?, ? examples/s]"
      ]
     },
     "metadata": {},
     "output_type": "display_data"
    }
   ],
   "source": [
    "from transformers import AutoTokenizer\n",
    "from datasets import load_dataset\n",
    "\n",
    "model_name = \"xlm-roberta-base\"\n",
    "tok = AutoTokenizer.from_pretrained(model_name)\n",
    "\n",
    "\n",
    "def tok_batch(batch):\n",
    "    return tok(batch[\"sentence\"], truncation=True, padding=\"max_length\", max_length=256)\n",
    "\n",
    "ds = ds.map(tok_batch, batched=True)\n",
    "ds = ds.with_format(\"torch\")\n",
    "train = ds[\"train\"].shuffle(seed=42).select(range(5000))\n",
    "val   = ds[\"validation\"]\n",
    "test  = ds[\"test\"]\n"
   ]
  },
  {
   "cell_type": "code",
   "execution_count": 44,
   "id": "52998ae6",
   "metadata": {},
   "outputs": [
    {
     "data": {
      "application/vnd.jupyter.widget-view+json": {
       "model_id": "b7f7458d0c1f4637b1d5c3bd035bea85",
       "version_major": 2,
       "version_minor": 0
      },
      "text/plain": [
       "Map:   0%|          | 0/200000 [00:00<?, ? examples/s]"
      ]
     },
     "metadata": {},
     "output_type": "display_data"
    },
    {
     "data": {
      "application/vnd.jupyter.widget-view+json": {
       "model_id": "6c974d41c54349a98fb2f98f9dee4de8",
       "version_major": 2,
       "version_minor": 0
      },
      "text/plain": [
       "Map:   0%|          | 0/5000 [00:00<?, ? examples/s]"
      ]
     },
     "metadata": {},
     "output_type": "display_data"
    },
    {
     "data": {
      "application/vnd.jupyter.widget-view+json": {
       "model_id": "1b10598e68354df0a8f50dccf5619202",
       "version_major": 2,
       "version_minor": 0
      },
      "text/plain": [
       "Map:   0%|          | 0/5000 [00:00<?, ? examples/s]"
      ]
     },
     "metadata": {},
     "output_type": "display_data"
    },
    {
     "name": "stdout",
     "output_type": "stream",
     "text": [
      "Train: Counter({2: 2000, 1: 2000, 0: 2000})\n",
      "Val  : Counter({2: 400, 1: 400, 0: 400})\n",
      "Test : Counter({2: 600, 1: 600, 0: 600})\n"
     ]
    },
    {
     "data": {
      "application/vnd.jupyter.widget-view+json": {
       "model_id": "d2f7b6ba9424474ebbd6efb7b6040b53",
       "version_major": 2,
       "version_minor": 0
      },
      "text/plain": [
       "Map:   0%|          | 0/6000 [00:00<?, ? examples/s]"
      ]
     },
     "metadata": {},
     "output_type": "display_data"
    },
    {
     "data": {
      "application/vnd.jupyter.widget-view+json": {
       "model_id": "977bf011fd5d41f0b20ffb17519d3955",
       "version_major": 2,
       "version_minor": 0
      },
      "text/plain": [
       "Map:   0%|          | 0/1200 [00:00<?, ? examples/s]"
      ]
     },
     "metadata": {},
     "output_type": "display_data"
    },
    {
     "data": {
      "application/vnd.jupyter.widget-view+json": {
       "model_id": "115322998ebe4ed9b5360046abb0ea67",
       "version_major": 2,
       "version_minor": 0
      },
      "text/plain": [
       "Map:   0%|          | 0/1800 [00:00<?, ? examples/s]"
      ]
     },
     "metadata": {},
     "output_type": "display_data"
    },
    {
     "name": "stderr",
     "output_type": "stream",
     "text": [
      "Some weights of DistilBertForSequenceClassification were not initialized from the model checkpoint at distilbert-base-multilingual-cased and are newly initialized: ['classifier.bias', 'classifier.weight', 'pre_classifier.bias', 'pre_classifier.weight']\n",
      "You should probably TRAIN this model on a down-stream task to be able to use it for predictions and inference.\n",
      "/home/selam/miniconda3/envs/py3.8/lib/python3.8/site-packages/transformers/training_args.py:1583: FutureWarning: using `no_cuda` is deprecated and will be removed in version 5.0 of 🤗 Transformers. Use `use_cpu` instead\n",
      "  warnings.warn(\n",
      "/tmp/ipykernel_120811/1526063044.py:108: FutureWarning: `tokenizer` is deprecated and will be removed in version 5.0.0 for `WeightedTrainer.__init__`. Use `processing_class` instead.\n",
      "  trainer = WeightedTrainer(\n"
     ]
    },
    {
     "data": {
      "application/vnd.jupyter.widget-view+json": {
       "model_id": "ed7b6e2a121f443e96db2156b828d3e5",
       "version_major": 2,
       "version_minor": 0
      },
      "text/plain": [
       "  0%|          | 0/940 [00:00<?, ?it/s]"
      ]
     },
     "metadata": {},
     "output_type": "display_data"
    },
    {
     "name": "stdout",
     "output_type": "stream",
     "text": [
      "{'loss': 1.0262, 'grad_norm': 2.5768327713012695, 'learning_rate': 9.468085106382978e-05, 'epoch': 0.27}\n",
      "{'loss': 0.818, 'grad_norm': 4.925760746002197, 'learning_rate': 8.936170212765958e-05, 'epoch': 0.53}\n",
      "{'loss': 0.7522, 'grad_norm': 2.0934362411499023, 'learning_rate': 8.404255319148937e-05, 'epoch': 0.8}\n"
     ]
    },
    {
     "data": {
      "application/vnd.jupyter.widget-view+json": {
       "model_id": "5b83806ed01d464991d4510c76b1ed73",
       "version_major": 2,
       "version_minor": 0
      },
      "text/plain": [
       "  0%|          | 0/19 [00:00<?, ?it/s]"
      ]
     },
     "metadata": {},
     "output_type": "display_data"
    },
    {
     "name": "stdout",
     "output_type": "stream",
     "text": [
      "{'eval_loss': 0.7098554372787476, 'eval_macro_f1': 0.6762838418208087, 'eval_runtime': 54.2879, 'eval_samples_per_second': 22.104, 'eval_steps_per_second': 0.35, 'epoch': 1.0}\n",
      "{'loss': 0.6855, 'grad_norm': 4.721901893615723, 'learning_rate': 7.872340425531916e-05, 'epoch': 1.06}\n",
      "{'loss': 0.6048, 'grad_norm': 4.355890274047852, 'learning_rate': 7.340425531914894e-05, 'epoch': 1.33}\n",
      "{'loss': 0.6389, 'grad_norm': 3.2958993911743164, 'learning_rate': 6.808510638297873e-05, 'epoch': 1.6}\n",
      "{'loss': 0.6628, 'grad_norm': 3.085366725921631, 'learning_rate': 6.276595744680851e-05, 'epoch': 1.86}\n"
     ]
    },
    {
     "data": {
      "application/vnd.jupyter.widget-view+json": {
       "model_id": "b0b4c4dfdd6b462b90ac6a3d4d9524d6",
       "version_major": 2,
       "version_minor": 0
      },
      "text/plain": [
       "  0%|          | 0/19 [00:00<?, ?it/s]"
      ]
     },
     "metadata": {},
     "output_type": "display_data"
    },
    {
     "name": "stdout",
     "output_type": "stream",
     "text": [
      "{'eval_loss': 0.6757643222808838, 'eval_macro_f1': 0.6932685881370092, 'eval_runtime': 55.5098, 'eval_samples_per_second': 21.618, 'eval_steps_per_second': 0.342, 'epoch': 2.0}\n",
      "{'loss': 0.5724, 'grad_norm': 3.2668402194976807, 'learning_rate': 5.744680851063831e-05, 'epoch': 2.13}\n",
      "{'loss': 0.5088, 'grad_norm': 4.140697956085205, 'learning_rate': 5.212765957446809e-05, 'epoch': 2.39}\n",
      "{'loss': 0.5195, 'grad_norm': 2.4854414463043213, 'learning_rate': 4.680851063829788e-05, 'epoch': 2.66}\n",
      "{'loss': 0.5444, 'grad_norm': 5.07588005065918, 'learning_rate': 4.148936170212766e-05, 'epoch': 2.93}\n"
     ]
    },
    {
     "data": {
      "application/vnd.jupyter.widget-view+json": {
       "model_id": "f289aaeddf7e4a879e44d1386070bc61",
       "version_major": 2,
       "version_minor": 0
      },
      "text/plain": [
       "  0%|          | 0/19 [00:00<?, ?it/s]"
      ]
     },
     "metadata": {},
     "output_type": "display_data"
    },
    {
     "name": "stdout",
     "output_type": "stream",
     "text": [
      "{'eval_loss': 0.7024925947189331, 'eval_macro_f1': 0.6877316069390651, 'eval_runtime': 54.2794, 'eval_samples_per_second': 22.108, 'eval_steps_per_second': 0.35, 'epoch': 3.0}\n",
      "{'loss': 0.4303, 'grad_norm': 2.772366523742676, 'learning_rate': 3.617021276595745e-05, 'epoch': 3.19}\n",
      "{'loss': 0.4242, 'grad_norm': 3.459791898727417, 'learning_rate': 3.085106382978723e-05, 'epoch': 3.46}\n",
      "{'loss': 0.4357, 'grad_norm': 3.6607143878936768, 'learning_rate': 2.5531914893617022e-05, 'epoch': 3.72}\n",
      "{'loss': 0.3779, 'grad_norm': 5.228521347045898, 'learning_rate': 2.0212765957446807e-05, 'epoch': 3.99}\n"
     ]
    },
    {
     "data": {
      "application/vnd.jupyter.widget-view+json": {
       "model_id": "4cfca788064346c8a79c6b5183103f82",
       "version_major": 2,
       "version_minor": 0
      },
      "text/plain": [
       "  0%|          | 0/19 [00:00<?, ?it/s]"
      ]
     },
     "metadata": {},
     "output_type": "display_data"
    },
    {
     "name": "stdout",
     "output_type": "stream",
     "text": [
      "{'eval_loss': 0.7893539667129517, 'eval_macro_f1': 0.6897208441628764, 'eval_runtime': 70.2318, 'eval_samples_per_second': 17.086, 'eval_steps_per_second': 0.271, 'epoch': 4.0}\n",
      "{'train_runtime': 2004.5177, 'train_samples_per_second': 14.966, 'train_steps_per_second': 0.469, 'train_loss': 0.5995350283511142, 'epoch': 4.0}\n"
     ]
    },
    {
     "data": {
      "text/plain": [
       "('model_en_light_best/tokenizer_config.json',\n",
       " 'model_en_light_best/special_tokens_map.json',\n",
       " 'model_en_light_best/vocab.txt',\n",
       " 'model_en_light_best/added_tokens.json',\n",
       " 'model_en_light_best/tokenizer.json')"
      ]
     },
     "execution_count": 44,
     "metadata": {},
     "output_type": "execute_result"
    }
   ],
   "source": [
    "# train_light_improved.py\n",
    "import os\n",
    "os.environ[\"TOKENIZERS_PARALLELISM\"] = \"false\"\n",
    "\n",
    "import numpy as np\n",
    "import torch\n",
    "import torch.nn as nn\n",
    "from sklearn.utils.class_weight import compute_class_weight\n",
    "from collections import Counter\n",
    "\n",
    "from datasets import load_dataset, DatasetDict\n",
    "from transformers import (\n",
    "    AutoTokenizer, AutoModelForSequenceClassification,\n",
    "    TrainingArguments, Trainer, DataCollatorWithPadding, EarlyStoppingCallback\n",
    ")\n",
    "from evaluate import load as load_metric\n",
    "\n",
    "# ---------------- 0. Setup ----------------\n",
    "model_name = \"distilbert-base-multilingual-cased\"\n",
    "tok = AutoTokenizer.from_pretrained(model_name)\n",
    "map3 = {0:0, 1:0, 2:1, 3:2, 4:2}\n",
    "\n",
    "# ---------------- 1. Load + relabel ----------------\n",
    "ds = load_dataset(\"mteb/amazon_reviews_multi\", \"en\")\n",
    "ds = ds.map(lambda x: {\"labels\": map3[x[\"label\"]]})\n",
    "ds = ds.rename_column(\"text\", \"sentence\")\n",
    "ds = ds.remove_columns([c for c in ds[\"train\"].column_names if c not in [\"sentence\", \"labels\"]])\n",
    "\n",
    "# ---- Stratified sampling helper ----\n",
    "def stratified_take(split, per_class, seed=42):\n",
    "    idxs = []\n",
    "    labels = np.array(split[\"labels\"])\n",
    "    rng = np.random.default_rng(seed)\n",
    "    for c in np.unique(labels):\n",
    "        cand = np.where(labels == c)[0]\n",
    "        take = min(per_class, len(cand))\n",
    "        idxs.extend(rng.choice(cand, take, replace=False))\n",
    "    return split.select(sorted(idxs))\n",
    "\n",
    "train_raw, val_raw, test_raw = ds[\"train\"], ds[\"validation\"], ds[\"test\"]\n",
    "\n",
    "train = stratified_take(train_raw.shuffle(seed=42), per_class=2000)   # 6000 total\n",
    "val   = stratified_take(val_raw.shuffle(seed=42),   per_class=400)    # 1200 total\n",
    "test  = stratified_take(test_raw.shuffle(seed=42),  per_class=600)    # 1800 total\n",
    "\n",
    "print(\"Train:\", Counter(train[\"labels\"]))\n",
    "print(\"Val  :\", Counter(val[\"labels\"]))\n",
    "print(\"Test :\", Counter(test[\"labels\"]))\n",
    "\n",
    "# ---------------- 2. Tokenize ----------------\n",
    "def tok_batch(b):\n",
    "    return tok(b[\"sentence\"], truncation=True, padding=False, max_length=256)\n",
    "\n",
    "train = train.map(tok_batch, batched=True)\n",
    "val   = val.map(tok_batch, batched=True)\n",
    "test  = test.map(tok_batch, batched=True)\n",
    "\n",
    "cols = [\"input_ids\", \"attention_mask\", \"labels\"]\n",
    "for split in (train, val, test):\n",
    "    split.set_format(type=\"torch\", columns=cols)\n",
    "\n",
    "# ---------------- 3. Model ----------------\n",
    "model = AutoModelForSequenceClassification.from_pretrained(model_name, num_labels=3)\n",
    "\n",
    "# Freeze all, unfreeze last 2 layers\n",
    "for p in model.base_model.parameters():\n",
    "    p.requires_grad = False\n",
    "for name, p in model.named_parameters():\n",
    "    if name.startswith(\"distilbert.transformer.layer.4\") or name.startswith(\"distilbert.transformer.layer.5\"):\n",
    "        p.requires_grad = True\n",
    "\n",
    "# ---------------- 4. Class weights ----------------\n",
    "y_train = np.array(train[\"labels\"])\n",
    "weights = compute_class_weight(class_weight=\"balanced\", classes=np.array([0,1,2]), y=y_train)\n",
    "class_w = torch.tensor(weights, dtype=torch.float)\n",
    "\n",
    "metric = load_metric(\"f1\")\n",
    "def compute_metrics(eval_pred):\n",
    "    logits, labels = eval_pred\n",
    "    preds = np.argmax(logits, axis=1)\n",
    "    return {\"macro_f1\": metric.compute(predictions=preds, references=labels, average=\"macro\")[\"f1\"]}\n",
    "\n",
    "class WeightedTrainer(Trainer):\n",
    "    def compute_loss(self, model, inputs, return_outputs=False, **kwargs):\n",
    "        labels = inputs.pop(\"labels\")\n",
    "        outputs = model(**inputs)\n",
    "        loss_fct = nn.CrossEntropyLoss(weight=class_w.to(outputs.logits.device))\n",
    "        loss = loss_fct(outputs.logits, labels)\n",
    "        return (loss, outputs) if return_outputs else loss\n",
    "\n",
    "args = TrainingArguments(\n",
    "    output_dir=\"ckpt_light\",\n",
    "    num_train_epochs=5,\n",
    "    per_device_train_batch_size=32,\n",
    "    per_device_eval_batch_size=64,\n",
    "    learning_rate=1e-4,\n",
    "    eval_strategy=\"epoch\",\n",
    "    save_strategy=\"epoch\",\n",
    "    load_best_model_at_end=True,\n",
    "    metric_for_best_model=\"macro_f1\",\n",
    "    greater_is_better=True,\n",
    "    logging_steps=50,\n",
    "    save_total_limit=2,\n",
    "    report_to=[],\n",
    "    no_cuda=True\n",
    ")\n",
    "\n",
    "trainer = WeightedTrainer(\n",
    "    model=model,\n",
    "    args=args,\n",
    "    train_dataset=train,\n",
    "    eval_dataset=val,\n",
    "    tokenizer=tok,\n",
    "    data_collator=DataCollatorWithPadding(tok),\n",
    "    compute_metrics=compute_metrics,\n",
    "    callbacks=[EarlyStoppingCallback(early_stopping_patience=2)]\n",
    ")\n",
    "\n",
    "trainer.train()\n",
    "trainer.save_model(\"model_en_light_best\")\n",
    "tok.save_pretrained(\"model_en_light_best\")\n"
   ]
  },
  {
   "cell_type": "code",
   "execution_count": null,
   "id": "dcdc1d9c",
   "metadata": {},
   "outputs": [],
   "source": [
    "# test_nb.py (or just a cell)\n",
    "\n",
    "import torch, numpy as np, matplotlib.pyplot as plt\n",
    "from datasets import load_dataset\n",
    "from transformers import AutoTokenizer, AutoModelForSequenceClassification\n",
    "from sklearn.metrics import f1_score, classification_report, confusion_matrix\n",
    "\n",
    "LABELS = [\"negative\",\"neutral\",\"positive\"]\n",
    "MAP3 = {0:0, 1:0, 2:1, 3:2, 4:2}\n",
    "\n",
    "def load_model(path=\"model_fr_light_best\"):\n",
    "    tok = AutoTokenizer.from_pretrained(path)\n",
    "    model = AutoModelForSequenceClassification.from_pretrained(path).eval()\n",
    "    device = torch.device(\"cuda\" if torch.cuda.is_available() else \"cpu\")\n",
    "    model.to(device)\n",
    "    return tok, model, device\n",
    "\n",
    "def batch_predict(texts, tok, model, device, max_len=256, bs=64):\n",
    "    preds = []\n",
    "    for i in range(0, len(texts), bs):\n",
    "        chunk = texts[i:i+bs]\n",
    "        inputs = tok(chunk, return_tensors=\"pt\", truncation=True,\n",
    "                     padding=True, max_length=max_len)\n",
    "        inputs = {k: v.to(device) for k,v in inputs.items()}\n",
    "        with torch.no_grad():\n",
    "            logits = model(**inputs).logits\n",
    "        preds.extend(torch.argmax(logits, dim=1).cpu().tolist())\n",
    "    return preds\n",
    "\n",
    "def eval_model(model_dir=\"model_fr_light_best\", n_test=None, cm_path=\"confusion_matrix.png\"):\n",
    "    tok, model, device = load_model(model_dir)\n",
    "    ds = load_dataset(\"mteb/amazon_reviews_multi\", \"fr\")\n",
    "    ds = ds.map(lambda x: {\"labels\": MAP3[x[\"label\"]]})\n",
    "    test = ds[\"test\"] if n_test is None else ds[\"test\"].select(range(n_test))\n",
    "    texts = test[\"text\"] if \"text\" in test.column_names else test[\"sentence\"]\n",
    "    y_true = test[\"labels\"]\n",
    "    y_pred = batch_predict(texts, tok, model, device)\n",
    "\n",
    "    print(\"Macro F1:\", f1_score(y_true, y_pred, average=\"macro\"))\n",
    "    print(classification_report(y_true, y_pred, target_names=LABELS))\n",
    "\n",
    "    cm = confusion_matrix(y_true, y_pred)\n",
    "    fig, ax = plt.subplots(figsize=(5,4))\n",
    "    im = ax.imshow(cm, cmap=\"Blues\")\n",
    "    ax.set_xticks(range(len(LABELS))); ax.set_yticks(range(len(LABELS)))\n",
    "    ax.set_xticklabels(LABELS); ax.set_yticklabels(LABELS)\n",
    "    ax.set_xlabel(\"Predicted\"); ax.set_ylabel(\"True\")\n",
    "    for (i,j), v in np.ndenumerate(cm):\n",
    "        ax.text(j, i, str(v), ha=\"center\", va=\"center\", fontsize=8)\n",
    "    fig.colorbar(im, ax=ax)\n",
    "    plt.tight_layout()\n",
    "    plt.savefig(cm_path)\n",
    "    print(f\"Confusion matrix saved to {cm_path}\")"
   ]
  },
  {
   "cell_type": "code",
   "execution_count": 48,
   "id": "f393ca44",
   "metadata": {},
   "outputs": [
    {
     "name": "stdout",
     "output_type": "stream",
     "text": [
      "Macro F1: 0.6865823492041816\n",
      "              precision    recall  f1-score   support\n",
      "\n",
      "    negative       0.78      0.82      0.80      2000\n",
      "     neutral       0.47      0.41      0.44      1000\n",
      "    positive       0.81      0.83      0.82      2000\n",
      "\n",
      "    accuracy                           0.74      5000\n",
      "   macro avg       0.69      0.69      0.69      5000\n",
      "weighted avg       0.73      0.74      0.74      5000\n",
      "\n",
      "Confusion matrix saved to confusion_matrix.png\n"
     ]
    },
    {
     "data": {
      "image/png": "[encoded data removed]",
      "text/plain": [
       "<Figure size 500x400 with 2 Axes>"
      ]
     },
     "metadata": {},
     "output_type": "display_data"
    }
   ],
   "source": [
    "eval_model(n_test=5000)\n"
   ]
  },
  {
   "cell_type": "code",
   "execution_count": 51,
   "id": "2a5733ad",
   "metadata": {},
   "outputs": [],
   "source": [
    "LABELS = [\"negative\", \"neutral\", \"positive\"]\n",
    "\n",
    "def predict_one(text, model_dir=\"model_en_light_best\", thresh=0.6):\n",
    "    tok, model, device = load_model(model_dir)\n",
    "    inputs = tok(text, return_tensors=\"pt\", truncation=True, padding=True, max_length=256)\n",
    "    inputs = {k: v.to(device) for k,v in inputs.items()}\n",
    "    with torch.no_grad():\n",
    "        probs = torch.softmax(model(**inputs).logits, dim=1).squeeze().tolist()\n",
    "\n",
    "    probs_dict = {lab: round(p*100, 2) for lab, p in zip(LABELS, probs)}\n",
    "    pred = max(probs_dict, key=probs_dict.get)\n",
    "\n",
    "    # optional: flag low-confidence cases\n",
    "    confident = probs_dict[pred] >= thresh*100\n",
    "\n",
    "    return {\n",
    "        \"text\": text,\n",
    "        \"prediction\": pred,\n",
    "        \"confidence_%\": probs_dict[pred],\n",
    "        \"all_probs_%\": probs_dict,\n",
    "        \"confident\": confident\n",
    "    }\n"
   ]
  },
  {
   "cell_type": "code",
   "execution_count": 53,
   "id": "dd400134",
   "metadata": {},
   "outputs": [
    {
     "data": {
      "text/plain": [
       "{'text': 'This product is not good.',\n",
       " 'prediction': 'negative',\n",
       " 'confidence_%': 77.18,\n",
       " 'all_probs_%': {'negative': 77.18, 'neutral': 20.62, 'positive': 2.21},\n",
       " 'confident': True}"
      ]
     },
     "execution_count": 53,
     "metadata": {},
     "output_type": "execute_result"
    }
   ],
   "source": [
    "predict_one(\"This product is not good.\")"
   ]
  },
  {
   "cell_type": "code",
   "execution_count": 54,
   "id": "1dfd1ec1",
   "metadata": {},
   "outputs": [
    {
     "data": {
      "text/plain": [
       "{'text': 'Happy.',\n",
       " 'prediction': 'positive',\n",
       " 'confidence_%': 94.45,\n",
       " 'all_probs_%': {'negative': 0.77, 'neutral': 4.78, 'positive': 94.45},\n",
       " 'confident': True}"
      ]
     },
     "execution_count": 54,
     "metadata": {},
     "output_type": "execute_result"
    }
   ],
   "source": [
    "predict_one(\"Happy.\")"
   ]
  },
  {
   "cell_type": "code",
   "execution_count": 57,
   "id": "739730ee",
   "metadata": {},
   "outputs": [
    {
     "data": {
      "text/plain": [
       "{'text': 'Let us go.',\n",
       " 'prediction': 'positive',\n",
       " 'confidence_%': 49.57,\n",
       " 'all_probs_%': {'negative': 14.61, 'neutral': 35.82, 'positive': 49.57},\n",
       " 'confident': False}"
      ]
     },
     "execution_count": 57,
     "metadata": {},
     "output_type": "execute_result"
    }
   ],
   "source": [
    "predict_one(\"Let us go.\")"
   ]
  },
  {
   "cell_type": "code",
   "execution_count": 65,
   "id": "04975e18",
   "metadata": {},
   "outputs": [
    {
     "data": {
      "text/plain": [
       "{'text': 'Normal.',\n",
       " 'prediction': 'neutral',\n",
       " 'confidence_%': 46.9,\n",
       " 'all_probs_%': {'negative': 24.32, 'neutral': 46.9, 'positive': 28.77},\n",
       " 'confident': False}"
      ]
     },
     "execution_count": 65,
     "metadata": {},
     "output_type": "execute_result"
    }
   ],
   "source": [
    "predict_one(\"Normal.\")"
   ]
  },
  {
   "cell_type": "code",
   "execution_count": 59,
   "id": "1aeafe82",
   "metadata": {},
   "outputs": [
    {
     "name": "stdout",
     "output_type": "stream",
     "text": [
      "Train: Counter({2: 2000, 1: 2000, 0: 2000})\n",
      "Val  : Counter({2: 400, 1: 400, 0: 400})\n",
      "Test : Counter({2: 600, 1: 600, 0: 600})\n"
     ]
    }
   ],
   "source": [
    "from collections import Counter\n",
    "import numpy as np\n",
    "\n",
    "def label_counts(split):\n",
    "    # make sure they're plain ints, not tensors\n",
    "    labs = [int(x) for x in split[\"labels\"]]\n",
    "    return Counter(labs)\n",
    "\n",
    "print(\"Train:\", label_counts(train))\n",
    "print(\"Val  :\", label_counts(val))\n",
    "print(\"Test :\", label_counts(test))\n"
   ]
  },
  {
   "cell_type": "code",
   "execution_count": null,
   "id": "0a101055",
   "metadata": {},
   "outputs": [],
   "source": []
  }
 ],
 "metadata": {
  "kernelspec": {
   "display_name": "py3.8",
   "language": "python",
   "name": "python3"
  },
  "language_info": {
   "codemirror_mode": {
    "name": "ipython",
    "version": 3
   },
   "file_extension": ".py",
   "mimetype": "text/x-python",
   "name": "python",
   "nbconvert_exporter": "python",
   "pygments_lexer": "ipython3",
   "version": "3.8.20"
  }
 },
 "nbformat": 4,
 "nbformat_minor": 5
}
